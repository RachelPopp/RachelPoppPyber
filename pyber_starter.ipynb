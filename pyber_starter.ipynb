{
 "cells": [
  {
   "cell_type": "code",
   "execution_count": 1,
   "metadata": {},
   "outputs": [],
   "source": [
    "%matplotlib inline\n",
    "# Dependencies and Setup\n",
    "import matplotlib.pyplot as plt\n",
    "import pandas as pd\n",
    "import numpy as np\n",
    "import matplotlib.cm as cm\n",
    "\n",
    "# File to Load (Remember to change these)\n",
    "city_data_to_load = \"city_data.csv\"\n",
    "ride_data_to_load = \"ride_data.csv\"\n",
    "\n",
    "# Read the City and Ride Data\n",
    "\n",
    "# Combine the data into a single dataset\n",
    "\n",
    "# Display the data table for preview\n",
    "\n",
    "CityData = pd.read_csv(city_data_to_load)\n",
    "RideData = pd.read_csv(ride_data_to_load)"
   ]
  },
  {
   "cell_type": "code",
   "execution_count": 2,
   "metadata": {
    "scrolled": true
   },
   "outputs": [
    {
     "data": {
      "text/html": [
       "<div>\n",
       "<style scoped>\n",
       "    .dataframe tbody tr th:only-of-type {\n",
       "        vertical-align: middle;\n",
       "    }\n",
       "\n",
       "    .dataframe tbody tr th {\n",
       "        vertical-align: top;\n",
       "    }\n",
       "\n",
       "    .dataframe thead th {\n",
       "        text-align: right;\n",
       "    }\n",
       "</style>\n",
       "<table border=\"1\" class=\"dataframe\">\n",
       "  <thead>\n",
       "    <tr style=\"text-align: right;\">\n",
       "      <th></th>\n",
       "      <th>city</th>\n",
       "      <th>driver_count</th>\n",
       "      <th>type</th>\n",
       "      <th>date</th>\n",
       "      <th>fare</th>\n",
       "      <th>ride_id</th>\n",
       "    </tr>\n",
       "  </thead>\n",
       "  <tbody>\n",
       "    <tr>\n",
       "      <th>0</th>\n",
       "      <td>Richardfort</td>\n",
       "      <td>38</td>\n",
       "      <td>Urban</td>\n",
       "      <td>2018-02-24 08:40:38</td>\n",
       "      <td>13.93</td>\n",
       "      <td>5628545007794</td>\n",
       "    </tr>\n",
       "    <tr>\n",
       "      <th>1</th>\n",
       "      <td>Richardfort</td>\n",
       "      <td>38</td>\n",
       "      <td>Urban</td>\n",
       "      <td>2018-02-13 12:46:07</td>\n",
       "      <td>14.00</td>\n",
       "      <td>910050116494</td>\n",
       "    </tr>\n",
       "    <tr>\n",
       "      <th>2</th>\n",
       "      <td>Richardfort</td>\n",
       "      <td>38</td>\n",
       "      <td>Urban</td>\n",
       "      <td>2018-02-16 13:52:19</td>\n",
       "      <td>17.92</td>\n",
       "      <td>820639054416</td>\n",
       "    </tr>\n",
       "    <tr>\n",
       "      <th>3</th>\n",
       "      <td>Richardfort</td>\n",
       "      <td>38</td>\n",
       "      <td>Urban</td>\n",
       "      <td>2018-02-01 20:18:28</td>\n",
       "      <td>10.26</td>\n",
       "      <td>9554935945413</td>\n",
       "    </tr>\n",
       "    <tr>\n",
       "      <th>4</th>\n",
       "      <td>Richardfort</td>\n",
       "      <td>38</td>\n",
       "      <td>Urban</td>\n",
       "      <td>2018-04-17 02:26:37</td>\n",
       "      <td>23.00</td>\n",
       "      <td>720020655850</td>\n",
       "    </tr>\n",
       "  </tbody>\n",
       "</table>\n",
       "</div>"
      ],
      "text/plain": [
       "          city  driver_count   type                 date   fare        ride_id\n",
       "0  Richardfort            38  Urban  2018-02-24 08:40:38  13.93  5628545007794\n",
       "1  Richardfort            38  Urban  2018-02-13 12:46:07  14.00   910050116494\n",
       "2  Richardfort            38  Urban  2018-02-16 13:52:19  17.92   820639054416\n",
       "3  Richardfort            38  Urban  2018-02-01 20:18:28  10.26  9554935945413\n",
       "4  Richardfort            38  Urban  2018-04-17 02:26:37  23.00   720020655850"
      ]
     },
     "execution_count": 2,
     "metadata": {},
     "output_type": "execute_result"
    }
   ],
   "source": [
    "CityData.head()\n",
    "\n",
    "#RideData.head()\n",
    "\n",
    "Both = CityData.merge(RideData, how = 'inner', on = 'city')\n",
    "Both\n",
    "Both.type.unique()\n",
    "Both.head()"
   ]
  },
  {
   "cell_type": "code",
   "execution_count": 3,
   "metadata": {},
   "outputs": [],
   "source": [
    "driver = Both.groupby(['city','driver_count'])\n",
    "#driver.head()"
   ]
  },
  {
   "cell_type": "code",
   "execution_count": 4,
   "metadata": {},
   "outputs": [
    {
     "data": {
      "text/html": [
       "<div>\n",
       "<style scoped>\n",
       "    .dataframe tbody tr th:only-of-type {\n",
       "        vertical-align: middle;\n",
       "    }\n",
       "\n",
       "    .dataframe tbody tr th {\n",
       "        vertical-align: top;\n",
       "    }\n",
       "\n",
       "    .dataframe thead th {\n",
       "        text-align: right;\n",
       "    }\n",
       "</style>\n",
       "<table border=\"1\" class=\"dataframe\">\n",
       "  <thead>\n",
       "    <tr style=\"text-align: right;\">\n",
       "      <th></th>\n",
       "      <th></th>\n",
       "      <th>driver_count</th>\n",
       "    </tr>\n",
       "    <tr>\n",
       "      <th>type</th>\n",
       "      <th>city</th>\n",
       "      <th></th>\n",
       "    </tr>\n",
       "  </thead>\n",
       "  <tbody>\n",
       "    <tr>\n",
       "      <th rowspan=\"5\" valign=\"top\">Rural</th>\n",
       "      <th>Bradshawfurt</th>\n",
       "      <td>7</td>\n",
       "    </tr>\n",
       "    <tr>\n",
       "      <th>Garzaport</th>\n",
       "      <td>7</td>\n",
       "    </tr>\n",
       "    <tr>\n",
       "      <th>Harringtonfort</th>\n",
       "      <td>4</td>\n",
       "    </tr>\n",
       "    <tr>\n",
       "      <th>Jessicaport</th>\n",
       "      <td>1</td>\n",
       "    </tr>\n",
       "    <tr>\n",
       "      <th>Lake Jamie</th>\n",
       "      <td>4</td>\n",
       "    </tr>\n",
       "  </tbody>\n",
       "</table>\n",
       "</div>"
      ],
      "text/plain": [
       "                      driver_count\n",
       "type  city                        \n",
       "Rural Bradshawfurt               7\n",
       "      Garzaport                  7\n",
       "      Harringtonfort             4\n",
       "      Jessicaport                1\n",
       "      Lake Jamie                 4"
      ]
     },
     "execution_count": 4,
     "metadata": {},
     "output_type": "execute_result"
    }
   ],
   "source": [
    "grouped = Both.groupby(['type','city'])\n",
    "mean = pd.DataFrame(grouped[\"fare\"].mean())\n",
    "mean\n",
    "\n",
    "count = pd.DataFrame(grouped[\"ride_id\"].count())\n",
    "count\n",
    "\n",
    "RuralMean = mean.loc['Rural']\n",
    "UrbanMean = mean.loc['Urban']\n",
    "SuburbanMean = mean.loc['Suburban']\n",
    "\n",
    "RuralCount = count.loc['Rural']\n",
    "UrbanCount = count.loc['Urban']\n",
    "SuburbanCount = count.loc['Suburban']\n",
    "\n",
    "Both.type.unique()\n",
    "\n",
    "size = pd.DataFrame(grouped[\"driver_count\"].max())\n",
    "size.head()"
   ]
  },
  {
   "cell_type": "code",
   "execution_count": null,
   "metadata": {},
   "outputs": [],
   "source": []
  },
  {
   "cell_type": "markdown",
   "metadata": {},
   "source": [
    "## Bubble Plot of Ride Sharing Data"
   ]
  },
  {
   "cell_type": "code",
   "execution_count": 6,
   "metadata": {},
   "outputs": [],
   "source": [
    "# Obtain the x and y coordinates for each of the three city types\n",
    "\n",
    "# Build the scatter plots for each city types\n",
    "\n",
    "# Incorporate the other graph properties\n",
    "\n",
    "# Create a legend\n",
    "\n",
    "# Incorporate a text label regarding circle size\n",
    "\n",
    "# Save Figure\n"
   ]
  },
  {
   "cell_type": "code",
   "execution_count": 30,
   "metadata": {},
   "outputs": [
    {
     "data": {
      "image/png": "[encoded data removed]",
      "text/plain": [
       "<Figure size 432x288 with 1 Axes>"
      ]
     },
     "metadata": {
      "needs_background": "light"
     },
     "output_type": "display_data"
    }
   ],
   "source": [
    "Rural = plt.scatter(RuralCount, RuralMean, marker=\"o\", facecolors=\"gold\", edgecolors=\"black\",\n",
    "            s=size, alpha=.5, label = \"Rural\")\n",
    "\n",
    "Urban = plt.scatter(UrbanCount, UrbanMean, marker=\"o\", facecolors=\"coral\", edgecolors=\"black\",\n",
    "           s=size, alpha=.5, label = \"Urban\")\n",
    "\n",
    "Suburban = plt.scatter(SuburbanCount, SuburbanMean, marker=\"o\", facecolors=\"skyblue\", edgecolors=\"black\",\n",
    "            s=size, alpha=.5, label = \"Suburban\")\n",
    "\n",
    "\n",
    "\n",
    "\n",
    "#Urban = plt.scatter(UrbanCount, UrbanMean, marker=\"o\", facecolors=cm.autumn(75), edgecolors=\"black\",\n",
    "#           s=size, alpha=.5, label = \"Urban\")\n",
    "\n",
    "#Suburban = plt.scatter(SuburbanCount, SuburbanMean, marker=\"o\", facecolors=cm.cool(90), edgecolors=\"black\",\n",
    "#            s=size, alpha=.5, label = \"Suburban\")\n",
    "\n",
    "\n",
    "# Create a legend for our chart\n",
    "plt.legend(handles=[Rural, Urban, Suburban], loc=\"best\")\n",
    "\n",
    "\n",
    "\n",
    "plt.title(\"Pyber Ride Sharing Data (2016)\")\n",
    "plt.xlabel(\"Total Number of Rides (per City)\")\n",
    "plt.ylabel(\"Average Fare($)\")\n",
    "\n",
    "plt.text(3, 6, 'Note: \\n Circle size correlates with driver count per city')\n",
    "\n",
    "\n",
    "\n",
    "plt.show()"
   ]
  },
  {
   "cell_type": "code",
   "execution_count": null,
   "metadata": {},
   "outputs": [],
   "source": []
  },
  {
   "cell_type": "markdown",
   "metadata": {},
   "source": [
    "## Total Fares by City Type"
   ]
  },
  {
   "cell_type": "code",
   "execution_count": 26,
   "metadata": {},
   "outputs": [],
   "source": [
    "# Calculate Type Percents\n",
    "\n",
    "# Build Pie Chart\n",
    "\n",
    "# Save Figure\n"
   ]
  },
  {
   "cell_type": "code",
   "execution_count": 34,
   "metadata": {},
   "outputs": [
    {
     "data": {
      "image/png": "[encoded data removed]",
      "text/plain": [
       "<Figure size 432x288 with 1 Axes>"
      ]
     },
     "metadata": {},
     "output_type": "display_data"
    }
   ],
   "source": [
    "grouped = Both.groupby(['type'])\n",
    "percent1 = pd.DataFrame(grouped[\"fare\"].sum())\n",
    "percent1\n",
    "percent1 = 100*percent1/percent1.sum()\n",
    "\n",
    "percent1[\"fare\"] = percent1[\"fare\"].map(\"{: .2f}\".format)\n",
    "\n",
    "lab = [\"Rural\",\"Suburban\",\"Urban\"]\n",
    "colors = [\"gold\",\"skyblue\",\"coral\"]\n",
    "\n",
    "percent1 = percent1.astype('double')\n",
    "\n",
    "explode = (0, 0, 0.1)\n",
    "\n",
    "plt.pie(percent1, labels=lab, explode=explode, colors=colors, autopct=\"%1.1f%%\", shadow=True, startangle=140)\n",
    "\n",
    "plt.title(\"% of Total Fares by City Type\")\n",
    "\n",
    "plt.show()"
   ]
  },
  {
   "cell_type": "code",
   "execution_count": null,
   "metadata": {},
   "outputs": [],
   "source": []
  },
  {
   "cell_type": "markdown",
   "metadata": {},
   "source": [
    "## Total Rides by City Type"
   ]
  },
  {
   "cell_type": "code",
   "execution_count": 28,
   "metadata": {},
   "outputs": [
    {
     "data": {
      "image/png": "[encoded data removed]",
      "text/plain": [
       "<Figure size 432x288 with 1 Axes>"
      ]
     },
     "metadata": {},
     "output_type": "display_data"
    }
   ],
   "source": [
    "# Calculate Ride Percents\n",
    "\n",
    "# Build Pie Chart\n",
    "\n",
    "# Save Figure\n",
    "\n",
    "grouped = Both.groupby(['type'])\n",
    "percent = pd.DataFrame(grouped[\"type\"].count())\n",
    "percent = 100*percent/percent.sum()\n",
    "\n",
    "percent[\"type\"] = percent[\"type\"].map(\"{: .2f}\".format)\n",
    "percent\n",
    "\n",
    "lab = [\"Rural\",\"Suburban\",\"Urban\"]\n",
    "colors = [\"orange\",\"lightblue\",\"coral\"]\n",
    "\n",
    "percent = percent.astype('double')\n",
    "\n",
    "explode = (0, 0, 0.1)\n",
    "\n",
    "plt.pie(percent, labels=lab, explode=explode, colors=colors,autopct=\"%1.1f%%\", shadow=True, startangle=140)\n",
    "plt.title(\"% of Total Rides by City Type\")\n",
    "\n",
    "#percent\n",
    "\n",
    "plt.show()\n"
   ]
  },
  {
   "cell_type": "code",
   "execution_count": null,
   "metadata": {},
   "outputs": [],
   "source": []
  },
  {
   "cell_type": "markdown",
   "metadata": {},
   "source": [
    "## Total Drivers by City Type"
   ]
  },
  {
   "cell_type": "code",
   "execution_count": 29,
   "metadata": {},
   "outputs": [
    {
     "data": {
      "image/png": "[encoded data removed]",
      "text/plain": [
       "<Figure size 432x288 with 1 Axes>"
      ]
     },
     "metadata": {},
     "output_type": "display_data"
    }
   ],
   "source": [
    "# Calculate Driver Percents\n",
    "\n",
    "# Build Pie Charts\n",
    "\n",
    "# Save Figure\n",
    "\n",
    "grouped = Both.groupby(['type','city'])\n",
    "percent = pd.DataFrame(grouped[\"driver_count\"].min())\n",
    "\n",
    "percent = percent.groupby(['type'])\n",
    "percent = pd.DataFrame(percent[\"driver_count\"].sum())\n",
    "\n",
    "percent = 100*percent/percent.sum()\n",
    "percent\n",
    "\n",
    "percent[\"driver_count\"] = percent[\"driver_count\"].map(\"{: .2f}\".format)\n",
    "percent\n",
    "\n",
    "lab = [\"Rural\",\"Suburban\",\"Urban\"]\n",
    "colors = [\"orange\",\"lightblue\",\"coral\"]\n",
    "\n",
    "percent = percent.astype('double')\n",
    "\n",
    "explode = (0, 0, 0.1)\n",
    "\n",
    "plt.pie(percent, labels=lab, explode=explode, colors=colors,autopct=\"%1.1f%%\", shadow=True, startangle=140)\n",
    "plt.title(\"Total Drivers by City Type\")\n",
    "\n",
    "\n",
    "plt.show()\n",
    "\n"
   ]
  },
  {
   "cell_type": "code",
   "execution_count": null,
   "metadata": {
    "scrolled": true
   },
   "outputs": [],
   "source": []
  },
  {
   "cell_type": "code",
   "execution_count": null,
   "metadata": {},
   "outputs": [],
   "source": []
  }
 ],
 "metadata": {
  "anaconda-cloud": {},
  "kernelspec": {
   "display_name": "Python 3",
   "language": "python",
   "name": "python3"
  },
  "language_info": {
   "codemirror_mode": {
    "name": "ipython",
    "version": 3
   },
   "file_extension": ".py",
   "mimetype": "text/x-python",
   "name": "python",
   "nbconvert_exporter": "python",
   "pygments_lexer": "ipython3",
   "version": "3.7.1"
  }
 },
 "nbformat": 4,
 "nbformat_minor": 2
}
